{
 "cells": [
  {
   "cell_type": "code",
   "execution_count": 11,
   "metadata": {
    "collapsed": true
   },
   "outputs": [],
   "source": [
    "import pandas as pd\n",
    "import matplotlib.pyplot as plt\n",
    "import numpy as np\n",
    "import hddm\n",
    "import os\n",
    "import math\n",
    "from datetime import datetime\n",
    "from timeit import default_timer as timer\n",
    "from datetime import timedelta\n",
    "from scipy.stats import shapiro\n",
    "import statistics as stats\n",
    "from zepid.graphics import EffectMeasurePlot\n",
    "import pingouin as pg\n",
    "from pymer4.models import Lmer\n",
    "\n",
    "plt.close('all')\n",
    "beh_path = ('/Users/nagrodzkij/data/angry/')\n",
    "input_path = ('/Users/nagrodzkij/data/angry/input/')\n",
    "output_path = ('/Users/nagrodzkij/data/angry/output/')\n",
    "\n",
    "FaceScores = pd.read_csv(input_path+'/demog/FaceScores.csv',index_col=[0])\n",
    "\n",
    "prev_depressed = pd.read_csv(input_path+'/demog/previously_depressed.csv', names=['0'])\n",
    "list_depressed = prev_depressed['0'].to_list()\n",
    "\n",
    "demog = pd.read_csv(output_path+'table_demog_byccid.csv')\n",
    "\n",
    "################################\n",
    "\n",
    "os.chdir(output_path+'hddm/')\n",
    "hddm_path=(output_path+'hddm/')\n",
    "accuracy_coding_path = hddm_path+'accuracy_coding/'\n",
    "accuracy_coding_models_path=accuracy_coding_path+'models/'\n",
    "\n",
    "data = hddm.load_csv(output_path+'data_emoFace_excl.csv')\n",
    "demog = pd.read_csv(output_path+'table_demog_withedu_byccid.csv',index_col=[0])\n",
    "age = demog.age\n",
    "FaceScores = pd.read_csv(input_path+'/demog/FaceScores.csv',index_col=[0])\n",
    "traces = pd.read_csv(accuracy_coding_models_path+'accuracy_participant1_trace.csv',index_col=0)"
   ]
  },
  {
   "cell_type": "code",
   "execution_count": 12,
   "outputs": [],
   "source": [
    "v_angry_cols = [x for x in traces.columns if 'v_subj(Angry)' in x]\n",
    "v_angry_params = traces[v_angry_cols]\n",
    "v_angry_params.columns = v_angry_params.columns.str[14:] #remove 't_subj' from column names\n",
    "\n",
    "v_neutral_cols = [x for x in traces.columns if 'v_subj(Neutral)' in x]\n",
    "v_neutral_params = traces[v_neutral_cols]\n",
    "v_neutral_params.columns = v_neutral_params.columns.str[16:] #remove 't_subj' from column names"
   ],
   "metadata": {
    "collapsed": false,
    "pycharm": {
     "name": "#%%\n"
    }
   }
  },
  {
   "cell_type": "code",
   "execution_count": 13,
   "outputs": [
    {
     "ename": "AttributeError",
     "evalue": "module 'statistics' has no attribute 'shapiro'",
     "output_type": "error",
     "traceback": [
      "\u001B[0;31m---------------------------------------------------------------------------\u001B[0m",
      "\u001B[0;31mAttributeError\u001B[0m                            Traceback (most recent call last)",
      "\u001B[0;32m<ipython-input-13-44aff7dd0f67>\u001B[0m in \u001B[0;36m<module>\u001B[0;34m\u001B[0m\n\u001B[1;32m     13\u001B[0m \u001B[0mv_neutral_mean\u001B[0m \u001B[0;34m=\u001B[0m \u001B[0mv_neutral_mean\u001B[0m\u001B[0;34m.\u001B[0m\u001B[0mmean\u001B[0m\u001B[0;34m(\u001B[0m\u001B[0maxis\u001B[0m\u001B[0;34m=\u001B[0m\u001B[0;36m1\u001B[0m\u001B[0;34m)\u001B[0m\u001B[0;34m\u001B[0m\u001B[0;34m\u001B[0m\u001B[0m\n\u001B[1;32m     14\u001B[0m \u001B[0;34m\u001B[0m\u001B[0m\n\u001B[0;32m---> 15\u001B[0;31m \u001B[0mstat1\u001B[0m\u001B[0;34m,\u001B[0m \u001B[0mp1\u001B[0m \u001B[0;34m=\u001B[0m \u001B[0mstats\u001B[0m\u001B[0;34m.\u001B[0m\u001B[0mshapiro\u001B[0m\u001B[0;34m(\u001B[0m\u001B[0mv_angry_mean\u001B[0m\u001B[0;34m)\u001B[0m\u001B[0;34m\u001B[0m\u001B[0;34m\u001B[0m\u001B[0m\n\u001B[0m\u001B[1;32m     16\u001B[0m \u001B[0mstat2\u001B[0m\u001B[0;34m,\u001B[0m \u001B[0mp2\u001B[0m \u001B[0;34m=\u001B[0m \u001B[0mstats\u001B[0m\u001B[0;34m.\u001B[0m\u001B[0mshapiro\u001B[0m\u001B[0;34m(\u001B[0m\u001B[0mv_neutral_mean\u001B[0m\u001B[0;34m)\u001B[0m\u001B[0;34m\u001B[0m\u001B[0;34m\u001B[0m\u001B[0m\n\u001B[1;32m     17\u001B[0m \u001B[0;34m\u001B[0m\u001B[0m\n",
      "\u001B[0;31mAttributeError\u001B[0m: module 'statistics' has no attribute 'shapiro'"
     ]
    }
   ],
   "source": [
    "excluded_participants = [\"520055\", \"610496\"]\n",
    "\n",
    "if set(excluded_participants).issubset(v_angry_params.columns):\n",
    "    v_angry_params = v_angry_params.drop(columns=excluded_participants)\n",
    "\n",
    "if set(excluded_participants).issubset(v_neutral_params.columns):\n",
    "    v_neutral_params = v_neutral_params.drop(columns=excluded_participants)\n",
    "\n",
    "v_angry_mean = v_angry_params.transpose()\n",
    "v_angry_mean = v_angry_mean.mean(axis=1)\n",
    "\n",
    "v_neutral_mean = v_neutral_params.transpose()\n",
    "v_neutral_mean = v_neutral_mean.mean(axis=1)\n",
    "\n",
    "stat1, p1 = shapiro(v_angry_mean)\n",
    "stat2, p2 = shapiro(v_neutral_mean)\n",
    "\n",
    "print(p1)\n",
    "print(p2)\n",
    "\n",
    "data_group1 = v_angry_mean\n",
    "data_group2 = v_neutral_mean\n",
    "\n",
    "if p1 and p2 > 0.05:\n",
    "    print('Normally distributed, therefore performing t-test')\n",
    "    tstat = pg.ttest(data_group1,data_group2,correction=True)\n",
    "    print('Variance: ',np.var(data_group1), np.var(data_group2))\n",
    "    print('Mean v_angry: ' + str(stats.mean(data_group1)) + 'Mean v_neutral:' + str(stats.mean(data_group2)))\n",
    "    print('Std v_angry: '+ str(math.sqrt(np.var(data_group1))) + 'Std v_neutral: ' + str(math.sqrt(np.var(data_group2))))\n",
    "    print(tstat)\n",
    "    print('')\n",
    "\n",
    "else:\n",
    "    print('Not normally distributed, performing Mann Whitney U test')\n",
    "    print('Median v_angry: ' + str(stats.median(data_group1)))\n",
    "    q3_depressed, q1_depressed = np.percentile(data_group1, [75 ,25])\n",
    "    print('IQR v_angry: ' + str(q1_depressed) + ', ' + str(q3_depressed))\n",
    "\n",
    "    print(' ')\n",
    "\n",
    "    print('Median v_neutral:' + str(stats.median(data_group2)))\n",
    "    q3_nondepressed, q1_nondepressed = np.percentile(data_group2, [75 ,25])\n",
    "    print('IQR v_neutral: ' + str(q1_nondepressed) + ', ' + str(q3_nondepressed))\n",
    "    res = stats.mannwhitneyu(data_group1, data_group2)\n",
    "    print(res)\n",
    "    print('')\n"
   ],
   "metadata": {
    "collapsed": false,
    "pycharm": {
     "name": "#%%\n"
    }
   }
  },
  {
   "cell_type": "code",
   "execution_count": null,
   "outputs": [],
   "source": [],
   "metadata": {
    "collapsed": false,
    "pycharm": {
     "name": "#%%\n"
    }
   }
  }
 ],
 "metadata": {
  "kernelspec": {
   "display_name": "Python 3",
   "language": "python",
   "name": "python3"
  },
  "language_info": {
   "codemirror_mode": {
    "name": "ipython",
    "version": 2
   },
   "file_extension": ".py",
   "mimetype": "text/x-python",
   "name": "python",
   "nbconvert_exporter": "python",
   "pygments_lexer": "ipython2",
   "version": "2.7.6"
  }
 },
 "nbformat": 4,
 "nbformat_minor": 0
}